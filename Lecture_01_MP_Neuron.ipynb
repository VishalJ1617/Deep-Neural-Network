{
 "cells": [
  {
   "cell_type": "code",
   "execution_count": 1,
   "id": "51c5487e-b967-4f40-bf22-3249391c1d50",
   "metadata": {},
   "outputs": [],
   "source": [
    "import os\n",
    "import numpy as np\n",
    "import pandas as pd\n",
    "import matplotlib.pyplot as plt\n",
    "from sklearn.model_selection import train_test_split\n",
    "from sklearn.metrics import accuracy_score"
   ]
  },
  {
   "cell_type": "code",
   "execution_count": 2,
   "id": "af0108d8-28f1-4db7-a502-6adb3666d1bd",
   "metadata": {},
   "outputs": [],
   "source": [
    "inDir='../../input'\n",
    "outDir='../../output'\n",
    "\n",
    "RANDOM_STATE = 24\n",
    "np.random.seed(RANDOM_STATE)\n",
    "\n",
    "TEST_SIZE=0.2"
   ]
  },
  {
   "cell_type": "code",
   "execution_count": 3,
   "id": "116e05a4-9855-48dd-8a83-4284e01a6bf6",
   "metadata": {},
   "outputs": [],
   "source": [
    "data_df=pd.read_csv(\"breast_cancer_mod.csv\")"
   ]
  },
  {
   "cell_type": "code",
   "execution_count": 4,
   "id": "efdbfefe-4d4f-4f42-bf0e-7a5792de4a47",
   "metadata": {},
   "outputs": [
    {
     "name": "stdout",
     "output_type": "stream",
     "text": [
      "<class 'pandas.core.frame.DataFrame'>\n",
      "RangeIndex: 569 entries, 0 to 568\n",
      "Data columns (total 31 columns):\n",
      " #   Column                   Non-Null Count  Dtype\n",
      "---  ------                   --------------  -----\n",
      " 0   mean radius              569 non-null    int64\n",
      " 1   mean texture             569 non-null    int64\n",
      " 2   mean perimeter           569 non-null    int64\n",
      " 3   mean area                569 non-null    int64\n",
      " 4   mean smoothness          569 non-null    int64\n",
      " 5   mean compactness         569 non-null    int64\n",
      " 6   mean concavity           569 non-null    int64\n",
      " 7   mean concave points      569 non-null    int64\n",
      " 8   mean symmetry            569 non-null    int64\n",
      " 9   mean fractal dimension   569 non-null    int64\n",
      " 10  radius error             569 non-null    int64\n",
      " 11  texture error            569 non-null    int64\n",
      " 12  perimeter error          569 non-null    int64\n",
      " 13  area error               569 non-null    int64\n",
      " 14  smoothness error         569 non-null    int64\n",
      " 15  compactness error        569 non-null    int64\n",
      " 16  concavity error          569 non-null    int64\n",
      " 17  concave points error     569 non-null    int64\n",
      " 18  symmetry error           569 non-null    int64\n",
      " 19  fractal dimension error  569 non-null    int64\n",
      " 20  worst radius             569 non-null    int64\n",
      " 21  worst texture            569 non-null    int64\n",
      " 22  worst perimeter          569 non-null    int64\n",
      " 23  worst area               569 non-null    int64\n",
      " 24  worst smoothness         569 non-null    int64\n",
      " 25  worst compactness        569 non-null    int64\n",
      " 26  worst concavity          569 non-null    int64\n",
      " 27  worst concave points     569 non-null    int64\n",
      " 28  worst symmetry           569 non-null    int64\n",
      " 29  worst fractal dimension  569 non-null    int64\n",
      " 30  target                   569 non-null    int64\n",
      "dtypes: int64(31)\n",
      "memory usage: 137.9 KB\n"
     ]
    }
   ],
   "source": [
    "data_df.info()"
   ]
  },
  {
   "cell_type": "code",
   "execution_count": 5,
   "id": "b6c1406a-6ebc-41f2-8549-9e0784b4a602",
   "metadata": {},
   "outputs": [
    {
     "data": {
      "text/html": [
       "<div>\n",
       "<style scoped>\n",
       "    .dataframe tbody tr th:only-of-type {\n",
       "        vertical-align: middle;\n",
       "    }\n",
       "\n",
       "    .dataframe tbody tr th {\n",
       "        vertical-align: top;\n",
       "    }\n",
       "\n",
       "    .dataframe thead th {\n",
       "        text-align: right;\n",
       "    }\n",
       "</style>\n",
       "<table border=\"1\" class=\"dataframe\">\n",
       "  <thead>\n",
       "    <tr style=\"text-align: right;\">\n",
       "      <th></th>\n",
       "      <th>count</th>\n",
       "      <th>mean</th>\n",
       "      <th>std</th>\n",
       "      <th>min</th>\n",
       "      <th>25%</th>\n",
       "      <th>50%</th>\n",
       "      <th>75%</th>\n",
       "      <th>max</th>\n",
       "    </tr>\n",
       "  </thead>\n",
       "  <tbody>\n",
       "    <tr>\n",
       "      <th>mean radius</th>\n",
       "      <td>569.0</td>\n",
       "      <td>0.820738</td>\n",
       "      <td>0.383909</td>\n",
       "      <td>0.0</td>\n",
       "      <td>1.0</td>\n",
       "      <td>1.0</td>\n",
       "      <td>1.0</td>\n",
       "      <td>1.0</td>\n",
       "    </tr>\n",
       "    <tr>\n",
       "      <th>mean texture</th>\n",
       "      <td>569.0</td>\n",
       "      <td>0.880492</td>\n",
       "      <td>0.324671</td>\n",
       "      <td>0.0</td>\n",
       "      <td>1.0</td>\n",
       "      <td>1.0</td>\n",
       "      <td>1.0</td>\n",
       "      <td>1.0</td>\n",
       "    </tr>\n",
       "    <tr>\n",
       "      <th>mean perimeter</th>\n",
       "      <td>569.0</td>\n",
       "      <td>0.827768</td>\n",
       "      <td>0.377914</td>\n",
       "      <td>0.0</td>\n",
       "      <td>1.0</td>\n",
       "      <td>1.0</td>\n",
       "      <td>1.0</td>\n",
       "      <td>1.0</td>\n",
       "    </tr>\n",
       "    <tr>\n",
       "      <th>mean area</th>\n",
       "      <td>569.0</td>\n",
       "      <td>0.954306</td>\n",
       "      <td>0.209005</td>\n",
       "      <td>0.0</td>\n",
       "      <td>1.0</td>\n",
       "      <td>1.0</td>\n",
       "      <td>1.0</td>\n",
       "      <td>1.0</td>\n",
       "    </tr>\n",
       "    <tr>\n",
       "      <th>mean smoothness</th>\n",
       "      <td>569.0</td>\n",
       "      <td>0.811951</td>\n",
       "      <td>0.391095</td>\n",
       "      <td>0.0</td>\n",
       "      <td>1.0</td>\n",
       "      <td>1.0</td>\n",
       "      <td>1.0</td>\n",
       "      <td>1.0</td>\n",
       "    </tr>\n",
       "    <tr>\n",
       "      <th>mean compactness</th>\n",
       "      <td>569.0</td>\n",
       "      <td>0.910369</td>\n",
       "      <td>0.285904</td>\n",
       "      <td>0.0</td>\n",
       "      <td>1.0</td>\n",
       "      <td>1.0</td>\n",
       "      <td>1.0</td>\n",
       "      <td>1.0</td>\n",
       "    </tr>\n",
       "    <tr>\n",
       "      <th>mean concavity</th>\n",
       "      <td>569.0</td>\n",
       "      <td>0.917399</td>\n",
       "      <td>0.275520</td>\n",
       "      <td>0.0</td>\n",
       "      <td>1.0</td>\n",
       "      <td>1.0</td>\n",
       "      <td>1.0</td>\n",
       "      <td>1.0</td>\n",
       "    </tr>\n",
       "    <tr>\n",
       "      <th>mean concave points</th>\n",
       "      <td>569.0</td>\n",
       "      <td>0.899824</td>\n",
       "      <td>0.300498</td>\n",
       "      <td>0.0</td>\n",
       "      <td>1.0</td>\n",
       "      <td>1.0</td>\n",
       "      <td>1.0</td>\n",
       "      <td>1.0</td>\n",
       "    </tr>\n",
       "    <tr>\n",
       "      <th>mean symmetry</th>\n",
       "      <td>569.0</td>\n",
       "      <td>0.831283</td>\n",
       "      <td>0.374831</td>\n",
       "      <td>0.0</td>\n",
       "      <td>1.0</td>\n",
       "      <td>1.0</td>\n",
       "      <td>1.0</td>\n",
       "      <td>1.0</td>\n",
       "    </tr>\n",
       "    <tr>\n",
       "      <th>mean fractal dimension</th>\n",
       "      <td>569.0</td>\n",
       "      <td>0.927944</td>\n",
       "      <td>0.258809</td>\n",
       "      <td>0.0</td>\n",
       "      <td>1.0</td>\n",
       "      <td>1.0</td>\n",
       "      <td>1.0</td>\n",
       "      <td>1.0</td>\n",
       "    </tr>\n",
       "    <tr>\n",
       "      <th>radius error</th>\n",
       "      <td>569.0</td>\n",
       "      <td>0.994728</td>\n",
       "      <td>0.072483</td>\n",
       "      <td>0.0</td>\n",
       "      <td>1.0</td>\n",
       "      <td>1.0</td>\n",
       "      <td>1.0</td>\n",
       "      <td>1.0</td>\n",
       "    </tr>\n",
       "    <tr>\n",
       "      <th>texture error</th>\n",
       "      <td>569.0</td>\n",
       "      <td>0.975395</td>\n",
       "      <td>0.155053</td>\n",
       "      <td>0.0</td>\n",
       "      <td>1.0</td>\n",
       "      <td>1.0</td>\n",
       "      <td>1.0</td>\n",
       "      <td>1.0</td>\n",
       "    </tr>\n",
       "    <tr>\n",
       "      <th>perimeter error</th>\n",
       "      <td>569.0</td>\n",
       "      <td>0.996485</td>\n",
       "      <td>0.059235</td>\n",
       "      <td>0.0</td>\n",
       "      <td>1.0</td>\n",
       "      <td>1.0</td>\n",
       "      <td>1.0</td>\n",
       "      <td>1.0</td>\n",
       "    </tr>\n",
       "    <tr>\n",
       "      <th>area error</th>\n",
       "      <td>569.0</td>\n",
       "      <td>0.996485</td>\n",
       "      <td>0.059235</td>\n",
       "      <td>0.0</td>\n",
       "      <td>1.0</td>\n",
       "      <td>1.0</td>\n",
       "      <td>1.0</td>\n",
       "      <td>1.0</td>\n",
       "    </tr>\n",
       "    <tr>\n",
       "      <th>smoothness error</th>\n",
       "      <td>569.0</td>\n",
       "      <td>0.987698</td>\n",
       "      <td>0.110328</td>\n",
       "      <td>0.0</td>\n",
       "      <td>1.0</td>\n",
       "      <td>1.0</td>\n",
       "      <td>1.0</td>\n",
       "      <td>1.0</td>\n",
       "    </tr>\n",
       "    <tr>\n",
       "      <th>compactness error</th>\n",
       "      <td>569.0</td>\n",
       "      <td>0.966608</td>\n",
       "      <td>0.179816</td>\n",
       "      <td>0.0</td>\n",
       "      <td>1.0</td>\n",
       "      <td>1.0</td>\n",
       "      <td>1.0</td>\n",
       "      <td>1.0</td>\n",
       "    </tr>\n",
       "    <tr>\n",
       "      <th>concavity error</th>\n",
       "      <td>569.0</td>\n",
       "      <td>0.996485</td>\n",
       "      <td>0.059235</td>\n",
       "      <td>0.0</td>\n",
       "      <td>1.0</td>\n",
       "      <td>1.0</td>\n",
       "      <td>1.0</td>\n",
       "      <td>1.0</td>\n",
       "    </tr>\n",
       "    <tr>\n",
       "      <th>concave points error</th>\n",
       "      <td>569.0</td>\n",
       "      <td>0.975395</td>\n",
       "      <td>0.155053</td>\n",
       "      <td>0.0</td>\n",
       "      <td>1.0</td>\n",
       "      <td>1.0</td>\n",
       "      <td>1.0</td>\n",
       "      <td>1.0</td>\n",
       "    </tr>\n",
       "    <tr>\n",
       "      <th>symmetry error</th>\n",
       "      <td>569.0</td>\n",
       "      <td>0.977153</td>\n",
       "      <td>0.149547</td>\n",
       "      <td>0.0</td>\n",
       "      <td>1.0</td>\n",
       "      <td>1.0</td>\n",
       "      <td>1.0</td>\n",
       "      <td>1.0</td>\n",
       "    </tr>\n",
       "    <tr>\n",
       "      <th>fractal dimension error</th>\n",
       "      <td>569.0</td>\n",
       "      <td>0.992970</td>\n",
       "      <td>0.083623</td>\n",
       "      <td>0.0</td>\n",
       "      <td>1.0</td>\n",
       "      <td>1.0</td>\n",
       "      <td>1.0</td>\n",
       "      <td>1.0</td>\n",
       "    </tr>\n",
       "    <tr>\n",
       "      <th>worst radius</th>\n",
       "      <td>569.0</td>\n",
       "      <td>0.848858</td>\n",
       "      <td>0.358503</td>\n",
       "      <td>0.0</td>\n",
       "      <td>1.0</td>\n",
       "      <td>1.0</td>\n",
       "      <td>1.0</td>\n",
       "      <td>1.0</td>\n",
       "    </tr>\n",
       "    <tr>\n",
       "      <th>worst texture</th>\n",
       "      <td>569.0</td>\n",
       "      <td>0.790861</td>\n",
       "      <td>0.407052</td>\n",
       "      <td>0.0</td>\n",
       "      <td>1.0</td>\n",
       "      <td>1.0</td>\n",
       "      <td>1.0</td>\n",
       "      <td>1.0</td>\n",
       "    </tr>\n",
       "    <tr>\n",
       "      <th>worst perimeter</th>\n",
       "      <td>569.0</td>\n",
       "      <td>0.868190</td>\n",
       "      <td>0.338582</td>\n",
       "      <td>0.0</td>\n",
       "      <td>1.0</td>\n",
       "      <td>1.0</td>\n",
       "      <td>1.0</td>\n",
       "      <td>1.0</td>\n",
       "    </tr>\n",
       "    <tr>\n",
       "      <th>worst area</th>\n",
       "      <td>569.0</td>\n",
       "      <td>0.966608</td>\n",
       "      <td>0.179816</td>\n",
       "      <td>0.0</td>\n",
       "      <td>1.0</td>\n",
       "      <td>1.0</td>\n",
       "      <td>1.0</td>\n",
       "      <td>1.0</td>\n",
       "    </tr>\n",
       "    <tr>\n",
       "      <th>worst smoothness</th>\n",
       "      <td>569.0</td>\n",
       "      <td>0.762742</td>\n",
       "      <td>0.425776</td>\n",
       "      <td>0.0</td>\n",
       "      <td>1.0</td>\n",
       "      <td>1.0</td>\n",
       "      <td>1.0</td>\n",
       "      <td>1.0</td>\n",
       "    </tr>\n",
       "    <tr>\n",
       "      <th>worst compactness</th>\n",
       "      <td>569.0</td>\n",
       "      <td>0.942004</td>\n",
       "      <td>0.233942</td>\n",
       "      <td>0.0</td>\n",
       "      <td>1.0</td>\n",
       "      <td>1.0</td>\n",
       "      <td>1.0</td>\n",
       "      <td>1.0</td>\n",
       "    </tr>\n",
       "    <tr>\n",
       "      <th>worst concavity</th>\n",
       "      <td>569.0</td>\n",
       "      <td>0.926186</td>\n",
       "      <td>0.261698</td>\n",
       "      <td>0.0</td>\n",
       "      <td>1.0</td>\n",
       "      <td>1.0</td>\n",
       "      <td>1.0</td>\n",
       "      <td>1.0</td>\n",
       "    </tr>\n",
       "    <tr>\n",
       "      <th>worst concave points</th>\n",
       "      <td>569.0</td>\n",
       "      <td>0.678383</td>\n",
       "      <td>0.467508</td>\n",
       "      <td>0.0</td>\n",
       "      <td>0.0</td>\n",
       "      <td>1.0</td>\n",
       "      <td>1.0</td>\n",
       "      <td>1.0</td>\n",
       "    </tr>\n",
       "    <tr>\n",
       "      <th>worst symmetry</th>\n",
       "      <td>569.0</td>\n",
       "      <td>0.956063</td>\n",
       "      <td>0.205135</td>\n",
       "      <td>0.0</td>\n",
       "      <td>1.0</td>\n",
       "      <td>1.0</td>\n",
       "      <td>1.0</td>\n",
       "      <td>1.0</td>\n",
       "    </tr>\n",
       "    <tr>\n",
       "      <th>worst fractal dimension</th>\n",
       "      <td>569.0</td>\n",
       "      <td>0.978910</td>\n",
       "      <td>0.143810</td>\n",
       "      <td>0.0</td>\n",
       "      <td>1.0</td>\n",
       "      <td>1.0</td>\n",
       "      <td>1.0</td>\n",
       "      <td>1.0</td>\n",
       "    </tr>\n",
       "    <tr>\n",
       "      <th>target</th>\n",
       "      <td>569.0</td>\n",
       "      <td>0.627417</td>\n",
       "      <td>0.483918</td>\n",
       "      <td>0.0</td>\n",
       "      <td>0.0</td>\n",
       "      <td>1.0</td>\n",
       "      <td>1.0</td>\n",
       "      <td>1.0</td>\n",
       "    </tr>\n",
       "  </tbody>\n",
       "</table>\n",
       "</div>"
      ],
      "text/plain": [
       "                         count      mean       std  min  25%  50%  75%  max\n",
       "mean radius              569.0  0.820738  0.383909  0.0  1.0  1.0  1.0  1.0\n",
       "mean texture             569.0  0.880492  0.324671  0.0  1.0  1.0  1.0  1.0\n",
       "mean perimeter           569.0  0.827768  0.377914  0.0  1.0  1.0  1.0  1.0\n",
       "mean area                569.0  0.954306  0.209005  0.0  1.0  1.0  1.0  1.0\n",
       "mean smoothness          569.0  0.811951  0.391095  0.0  1.0  1.0  1.0  1.0\n",
       "mean compactness         569.0  0.910369  0.285904  0.0  1.0  1.0  1.0  1.0\n",
       "mean concavity           569.0  0.917399  0.275520  0.0  1.0  1.0  1.0  1.0\n",
       "mean concave points      569.0  0.899824  0.300498  0.0  1.0  1.0  1.0  1.0\n",
       "mean symmetry            569.0  0.831283  0.374831  0.0  1.0  1.0  1.0  1.0\n",
       "mean fractal dimension   569.0  0.927944  0.258809  0.0  1.0  1.0  1.0  1.0\n",
       "radius error             569.0  0.994728  0.072483  0.0  1.0  1.0  1.0  1.0\n",
       "texture error            569.0  0.975395  0.155053  0.0  1.0  1.0  1.0  1.0\n",
       "perimeter error          569.0  0.996485  0.059235  0.0  1.0  1.0  1.0  1.0\n",
       "area error               569.0  0.996485  0.059235  0.0  1.0  1.0  1.0  1.0\n",
       "smoothness error         569.0  0.987698  0.110328  0.0  1.0  1.0  1.0  1.0\n",
       "compactness error        569.0  0.966608  0.179816  0.0  1.0  1.0  1.0  1.0\n",
       "concavity error          569.0  0.996485  0.059235  0.0  1.0  1.0  1.0  1.0\n",
       "concave points error     569.0  0.975395  0.155053  0.0  1.0  1.0  1.0  1.0\n",
       "symmetry error           569.0  0.977153  0.149547  0.0  1.0  1.0  1.0  1.0\n",
       "fractal dimension error  569.0  0.992970  0.083623  0.0  1.0  1.0  1.0  1.0\n",
       "worst radius             569.0  0.848858  0.358503  0.0  1.0  1.0  1.0  1.0\n",
       "worst texture            569.0  0.790861  0.407052  0.0  1.0  1.0  1.0  1.0\n",
       "worst perimeter          569.0  0.868190  0.338582  0.0  1.0  1.0  1.0  1.0\n",
       "worst area               569.0  0.966608  0.179816  0.0  1.0  1.0  1.0  1.0\n",
       "worst smoothness         569.0  0.762742  0.425776  0.0  1.0  1.0  1.0  1.0\n",
       "worst compactness        569.0  0.942004  0.233942  0.0  1.0  1.0  1.0  1.0\n",
       "worst concavity          569.0  0.926186  0.261698  0.0  1.0  1.0  1.0  1.0\n",
       "worst concave points     569.0  0.678383  0.467508  0.0  0.0  1.0  1.0  1.0\n",
       "worst symmetry           569.0  0.956063  0.205135  0.0  1.0  1.0  1.0  1.0\n",
       "worst fractal dimension  569.0  0.978910  0.143810  0.0  1.0  1.0  1.0  1.0\n",
       "target                   569.0  0.627417  0.483918  0.0  0.0  1.0  1.0  1.0"
      ]
     },
     "execution_count": 5,
     "metadata": {},
     "output_type": "execute_result"
    }
   ],
   "source": [
    "data_df.describe().T"
   ]
  },
  {
   "cell_type": "code",
   "execution_count": 6,
   "id": "24315ef2-fa8b-40b1-9873-37f160172ab2",
   "metadata": {},
   "outputs": [
    {
     "data": {
      "text/plain": [
       "<BarContainer object of 2 artists>"
      ]
     },
     "execution_count": 6,
     "metadata": {},
     "output_type": "execute_result"
    },
    {
     "data": {
      "image/png": "[encoded data removed]",
      "text/plain": [
       "<Figure size 640x480 with 1 Axes>"
      ]
     },
     "metadata": {},
     "output_type": "display_data"
    }
   ],
   "source": [
    "fig,ax=plt.subplots()\n",
    "ax.bar(data_df.target.value_counts().index,data_df.target.value_counts().values)"
   ]
  },
  {
   "cell_type": "code",
   "execution_count": 7,
   "id": "8475132e-7dc4-48c1-acbf-3c78cc0ce346",
   "metadata": {},
   "outputs": [
    {
     "data": {
      "image/png": "[encoded data removed]",
      "text/plain": [
       "<Figure size 640x480 with 1 Axes>"
      ]
     },
     "metadata": {},
     "output_type": "display_data"
    }
   ],
   "source": [
    "fig,ax=plt.subplots()\n",
    "ax.pie(data_df.target.value_counts(),shadow=True);"
   ]
  },
  {
   "cell_type": "code",
   "execution_count": 8,
   "id": "27d9507c-79c2-400e-a27c-e5536a516dd9",
   "metadata": {},
   "outputs": [
    {
     "data": {
      "text/plain": [
       "((569, 30), (569,))"
      ]
     },
     "execution_count": 8,
     "metadata": {},
     "output_type": "execute_result"
    }
   ],
   "source": [
    "features_df=data_df.drop('target',axis=1)\n",
    "labels_df=data_df['target']\n",
    "features_df.shape, labels_df.shape"
   ]
  },
  {
   "cell_type": "code",
   "execution_count": 9,
   "id": "db78af3b-1faa-48b7-bbaa-e613146bf04f",
   "metadata": {},
   "outputs": [
    {
     "data": {
      "text/plain": [
       "((455, 30), (114, 30), (455,), (114,))"
      ]
     },
     "execution_count": 9,
     "metadata": {},
     "output_type": "execute_result"
    }
   ],
   "source": [
    "X_train,X_test,y_train,y_test=train_test_split(features_df,\n",
    "                                               labels_df,\n",
    "                                               test_size=TEST_SIZE,\n",
    "                                               random_state=RANDOM_STATE,\n",
    "                                               stratify=labels_df)\n",
    "\n",
    "#How does it look\n",
    "X_train.shape, X_test.shape, y_train.shape, y_test.shape,"
   ]
  },
  {
   "cell_type": "code",
   "execution_count": 10,
   "id": "69442f91-f122-4ee8-8fda-c35ae45ea21a",
   "metadata": {},
   "outputs": [],
   "source": [
    "X_train['total']=X_train.astype(np.int64).sum(axis =1)\n",
    "X_test['total']=X_test.astype(np.int64).sum(axis =1)\n",
    "\n",
    "X_train['target'] = y_train\n",
    "X_test['target'] = y_test"
   ]
  },
  {
   "cell_type": "code",
   "execution_count": 11,
   "id": "2fe89109-5f75-4cd2-b33a-8d9b4ee037ca",
   "metadata": {},
   "outputs": [
    {
     "data": {
      "image/png": "[encoded data removed]",
      "text/plain": [
       "<Figure size 640x480 with 1 Axes>"
      ]
     },
     "metadata": {},
     "output_type": "display_data"
    }
   ],
   "source": [
    "plt.scatter(X_train['total'],X_train['target']);"
   ]
  },
  {
   "cell_type": "code",
   "execution_count": 12,
   "id": "43a1d77c-f566-42ed-8c81-387cc4abcf33",
   "metadata": {},
   "outputs": [
    {
     "data": {
      "image/png": "[encoded data removed]",
      "text/plain": [
       "<Figure size 640x480 with 1 Axes>"
      ]
     },
     "metadata": {},
     "output_type": "display_data"
    }
   ],
   "source": [
    "tmp_df=X_train.groupby(['total','target']).agg({'target':'count'})\n",
    "tmp_df.columns=['count']\n",
    "tmp_df.reset_index(inplace=True)\n",
    "tmp_df.pivot(index='total',columns='target',values='count').plot(kind='bar');"
   ]
  },
  {
   "cell_type": "code",
   "execution_count": 13,
   "id": "abbfedd1-aee5-47c2-9e4b-b95ddca4b392",
   "metadata": {},
   "outputs": [
    {
     "data": {
      "image/png": "[encoded data removed]",
      "text/plain": [
       "<Figure size 640x480 with 1 Axes>"
      ]
     },
     "metadata": {},
     "output_type": "display_data"
    }
   ],
   "source": [
    "tmp_df=X_test.groupby(['total','target']).agg({'target':'count'})\n",
    "tmp_df.columns=['count']\n",
    "tmp_df.reset_index(inplace=True)\n",
    "tmp_df.pivot(index='total',columns='target',values='count').plot(kind='bar');"
   ]
  },
  {
   "cell_type": "code",
   "execution_count": 14,
   "id": "60080693-0db5-4b6f-a522-ee93b4e5201b",
   "metadata": {},
   "outputs": [
    {
     "data": {
      "text/plain": [
       "{0: 0.6263736263736264,\n",
       " 1: 0.6263736263736264,\n",
       " 2: 0.6263736263736264,\n",
       " 3: 0.6263736263736264,\n",
       " 4: 0.6263736263736264,\n",
       " 5: 0.6263736263736264,\n",
       " 6: 0.6263736263736264,\n",
       " 7: 0.6263736263736264,\n",
       " 8: 0.6263736263736264,\n",
       " 9: 0.6263736263736264,\n",
       " 10: 0.6263736263736264,\n",
       " 11: 0.6263736263736264,\n",
       " 12: 0.6263736263736264,\n",
       " 13: 0.6285714285714286,\n",
       " 14: 0.6329670329670329,\n",
       " 15: 0.6329670329670329,\n",
       " 16: 0.6417582417582418,\n",
       " 17: 0.6505494505494506,\n",
       " 18: 0.6593406593406593,\n",
       " 19: 0.6637362637362637,\n",
       " 20: 0.6725274725274726,\n",
       " 21: 0.6901098901098901,\n",
       " 22: 0.7098901098901099,\n",
       " 23: 0.734065934065934,\n",
       " 24: 0.7692307692307693,\n",
       " 25: 0.8021978021978022,\n",
       " 26: 0.8307692307692308,\n",
       " 27: 0.8505494505494505,\n",
       " 28: 0.8483516483516483,\n",
       " 29: 0.8241758241758241,\n",
       " 30: 0.7472527472527473}"
      ]
     },
     "execution_count": 14,
     "metadata": {},
     "output_type": "execute_result"
    }
   ],
   "source": [
    "accuracy={}\n",
    "\n",
    "#loop over all the columns\n",
    "\n",
    "for b in range(X_train.shape[1]-1):\n",
    "    X_train['pred']=X_train['total']>=b\n",
    "    accuracy[b] = accuracy_score(X_train['pred'],X_train['target'])\n",
    "\n",
    "accuracy"
   ]
  },
  {
   "cell_type": "code",
   "execution_count": 15,
   "id": "cb5ee9e8-258c-454a-bded-02b4016d33f7",
   "metadata": {},
   "outputs": [
    {
     "data": {
      "text/plain": [
       "27"
      ]
     },
     "execution_count": 15,
     "metadata": {},
     "output_type": "execute_result"
    }
   ],
   "source": [
    "best_b = max(accuracy, key= accuracy.get)\n",
    "best_b"
   ]
  },
  {
   "cell_type": "code",
   "execution_count": 16,
   "id": "fecc2664-0c70-4a8d-8b21-1ce2ec5040aa",
   "metadata": {},
   "outputs": [
    {
     "ename": "NameError",
     "evalue": "name 'x_test' is not defined",
     "output_type": "error",
     "traceback": [
      "\u001b[0;31m---------------------------------------------------------------------------\u001b[0m",
      "\u001b[0;31mNameError\u001b[0m                                 Traceback (most recent call last)",
      "Cell \u001b[0;32mIn[16], line 1\u001b[0m\n\u001b[0;32m----> 1\u001b[0m X_test[\u001b[38;5;124m'\u001b[39m\u001b[38;5;124mpred\u001b[39m\u001b[38;5;124m'\u001b[39m]\u001b[38;5;241m=\u001b[39m\u001b[43mx_test\u001b[49m[\u001b[38;5;124m'\u001b[39m\u001b[38;5;124mtotal\u001b[39m\u001b[38;5;124m'\u001b[39m] \u001b[38;5;241m>\u001b[39m\u001b[38;5;241m=\u001b[39m best_b\n\u001b[1;32m      2\u001b[0m accuracy_score\n",
      "\u001b[0;31mNameError\u001b[0m: name 'x_test' is not defined"
     ]
    }
   ],
   "source": [
    "X_test['pred']=x_test['total'] >= best_b\n",
    "accuracy_score"
   ]
  }
 ],
 "metadata": {
  "kernelspec": {
   "display_name": "Python 3 (ipykernel)",
   "language": "python",
   "name": "python3"
  },
  "language_info": {
   "codemirror_mode": {
    "name": "ipython",
    "version": 3
   },
   "file_extension": ".py",
   "mimetype": "text/x-python",
   "name": "python",
   "nbconvert_exporter": "python",
   "pygments_lexer": "ipython3",
   "version": "3.11.5"
  }
 },
 "nbformat": 4,
 "nbformat_minor": 5
}
