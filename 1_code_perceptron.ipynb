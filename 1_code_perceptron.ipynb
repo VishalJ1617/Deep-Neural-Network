{
 "cells": [
  {
   "cell_type": "code",
   "execution_count": 1,
   "id": "c37e988e",
   "metadata": {},
   "outputs": [],
   "source": [
    "import pandas as pd\n",
    "import numpy as np\n",
    "import matplotlib.pyplot as plt\n",
    "import seaborn as sns\n",
    "from sklearn import datasets"
   ]
  },
  {
   "cell_type": "code",
   "execution_count": 2,
   "id": "99131b61",
   "metadata": {},
   "outputs": [],
   "source": [
    "ALPHA = 0.001\n",
    "EPHOCHS = 200"
   ]
  },
  {
   "cell_type": "code",
   "execution_count": 3,
   "id": "d3383de5",
   "metadata": {},
   "outputs": [],
   "source": [
    "rng = np.random.default_rng(seed = 0)"
   ]
  },
  {
   "cell_type": "code",
   "execution_count": 4,
   "id": "6bcfa8a1",
   "metadata": {},
   "outputs": [],
   "source": [
    "X,y = datasets.make_moons(n_samples=1000, noise=0.2, random_state= 23)"
   ]
  },
  {
   "cell_type": "code",
   "execution_count": 5,
   "id": "afad576d",
   "metadata": {},
   "outputs": [],
   "source": [
    "data_df = pd.DataFrame(X, columns=['X1','X2'])"
   ]
  },
  {
   "cell_type": "code",
   "execution_count": 6,
   "id": "901e39a3",
   "metadata": {},
   "outputs": [],
   "source": [
    "data_df['target'] = y"
   ]
  },
  {
   "cell_type": "code",
   "execution_count": 7,
   "id": "8d622edc",
   "metadata": {},
   "outputs": [
    {
     "data": {
      "text/html": [
       "<div>\n",
       "<style scoped>\n",
       "    .dataframe tbody tr th:only-of-type {\n",
       "        vertical-align: middle;\n",
       "    }\n",
       "\n",
       "    .dataframe tbody tr th {\n",
       "        vertical-align: top;\n",
       "    }\n",
       "\n",
       "    .dataframe thead th {\n",
       "        text-align: right;\n",
       "    }\n",
       "</style>\n",
       "<table border=\"1\" class=\"dataframe\">\n",
       "  <thead>\n",
       "    <tr style=\"text-align: right;\">\n",
       "      <th></th>\n",
       "      <th>X1</th>\n",
       "      <th>X2</th>\n",
       "      <th>target</th>\n",
       "    </tr>\n",
       "  </thead>\n",
       "  <tbody>\n",
       "    <tr>\n",
       "      <th>0</th>\n",
       "      <td>-0.029033</td>\n",
       "      <td>0.253046</td>\n",
       "      <td>1</td>\n",
       "    </tr>\n",
       "    <tr>\n",
       "      <th>1</th>\n",
       "      <td>1.288946</td>\n",
       "      <td>-0.079415</td>\n",
       "      <td>1</td>\n",
       "    </tr>\n",
       "    <tr>\n",
       "      <th>2</th>\n",
       "      <td>0.155971</td>\n",
       "      <td>0.879749</td>\n",
       "      <td>0</td>\n",
       "    </tr>\n",
       "    <tr>\n",
       "      <th>3</th>\n",
       "      <td>0.032590</td>\n",
       "      <td>0.487471</td>\n",
       "      <td>1</td>\n",
       "    </tr>\n",
       "    <tr>\n",
       "      <th>4</th>\n",
       "      <td>2.285296</td>\n",
       "      <td>0.462694</td>\n",
       "      <td>1</td>\n",
       "    </tr>\n",
       "    <tr>\n",
       "      <th>...</th>\n",
       "      <td>...</td>\n",
       "      <td>...</td>\n",
       "      <td>...</td>\n",
       "    </tr>\n",
       "    <tr>\n",
       "      <th>995</th>\n",
       "      <td>1.762311</td>\n",
       "      <td>0.047648</td>\n",
       "      <td>1</td>\n",
       "    </tr>\n",
       "    <tr>\n",
       "      <th>996</th>\n",
       "      <td>2.643058</td>\n",
       "      <td>0.351860</td>\n",
       "      <td>1</td>\n",
       "    </tr>\n",
       "    <tr>\n",
       "      <th>997</th>\n",
       "      <td>0.909781</td>\n",
       "      <td>0.265390</td>\n",
       "      <td>0</td>\n",
       "    </tr>\n",
       "    <tr>\n",
       "      <th>998</th>\n",
       "      <td>0.940364</td>\n",
       "      <td>-0.281355</td>\n",
       "      <td>1</td>\n",
       "    </tr>\n",
       "    <tr>\n",
       "      <th>999</th>\n",
       "      <td>0.120870</td>\n",
       "      <td>0.144608</td>\n",
       "      <td>1</td>\n",
       "    </tr>\n",
       "  </tbody>\n",
       "</table>\n",
       "<p>1000 rows × 3 columns</p>\n",
       "</div>"
      ],
      "text/plain": [
       "           X1        X2  target\n",
       "0   -0.029033  0.253046       1\n",
       "1    1.288946 -0.079415       1\n",
       "2    0.155971  0.879749       0\n",
       "3    0.032590  0.487471       1\n",
       "4    2.285296  0.462694       1\n",
       "..        ...       ...     ...\n",
       "995  1.762311  0.047648       1\n",
       "996  2.643058  0.351860       1\n",
       "997  0.909781  0.265390       0\n",
       "998  0.940364 -0.281355       1\n",
       "999  0.120870  0.144608       1\n",
       "\n",
       "[1000 rows x 3 columns]"
      ]
     },
     "execution_count": 7,
     "metadata": {},
     "output_type": "execute_result"
    }
   ],
   "source": [
    "data_df"
   ]
  },
  {
   "cell_type": "code",
   "execution_count": 8,
   "id": "1e3d6881",
   "metadata": {},
   "outputs": [],
   "source": [
    "train_data = data_df.to_numpy()[:900]\n",
    "test_data = data_df.to_numpy()[900:]"
   ]
  },
  {
   "cell_type": "code",
   "execution_count": 9,
   "id": "caaf9385",
   "metadata": {},
   "outputs": [
    {
     "data": {
      "text/plain": [
       "(1000, 2)"
      ]
     },
     "execution_count": 9,
     "metadata": {},
     "output_type": "execute_result"
    }
   ],
   "source": [
    "features = X.shape\n",
    "features"
   ]
  },
  {
   "cell_type": "code",
   "execution_count": 10,
   "id": "28f760fd",
   "metadata": {},
   "outputs": [],
   "source": [
    "def predict(row, weights):\n",
    "    \n",
    "    bias = weights[0]\n",
    "    \n",
    "    z = ((row[0]*weights[1]) + (row[1]*weights[2])) + bias\n",
    "    \n",
    "    threshold = 0\n",
    "    \n",
    "    if(z >= threshold):\n",
    "        z =1\n",
    "    else:\n",
    "        z = 0\n",
    "    \n",
    "    return z    "
   ]
  },
  {
   "cell_type": "code",
   "execution_count": 11,
   "id": "3567c394",
   "metadata": {},
   "outputs": [],
   "source": [
    "def build_model(train, alpha = ALPHA, epochs = EPHOCHS):\n",
    "    \n",
    "    weights = rng.random(features[1]+1)\n",
    "    \n",
    "    m = train.shape[0]\n",
    "    \n",
    "    error_lst = []\n",
    "    \n",
    "    for epoch in range(epochs):\n",
    "        \n",
    "        total_error = 0\n",
    "        \n",
    "        for row in train:\n",
    "            \n",
    "            #-------------------------\n",
    "            # forward propogation\n",
    "            #-------------------------\n",
    "            \n",
    "            prediction = predict(row, weights)\n",
    "            \n",
    "            error = prediction - row[-1]\n",
    "            \n",
    "            sum_error = (prediction - row[-1])**2\n",
    "            \n",
    "            total_error += sum_error\n",
    "            \n",
    "            #-------------------------\n",
    "            # back tracking\n",
    "            #-------------------------\n",
    "            \n",
    "            weights[1] = weights[1] - (alpha/(m))*error\n",
    "            \n",
    "            weights[0] = weights[0] - (alpha/m)*(error*row[0])\n",
    "            \n",
    "            weights[2] = weights[2] - (alpha/m)*(error*row[1])\n",
    "            \n",
    "        error_lst.append(total_error/m)\n",
    "    \n",
    "    return weights[0], weights[2], weights[1], error_lst"
   ]
  },
  {
   "cell_type": "code",
   "execution_count": 12,
   "id": "a6502160",
   "metadata": {},
   "outputs": [],
   "source": [
    "W1, W2, bias, error = build_model(train_data, alpha=ALPHA, epochs=EPHOCHS)"
   ]
  },
  {
   "cell_type": "code",
   "execution_count": 13,
   "id": "62ca312e",
   "metadata": {},
   "outputs": [
    {
     "data": {
      "text/plain": [
       "0.6380920129748189"
      ]
     },
     "execution_count": 13,
     "metadata": {},
     "output_type": "execute_result"
    }
   ],
   "source": [
    "W1"
   ]
  },
  {
   "cell_type": "code",
   "execution_count": 14,
   "id": "838b8f8f",
   "metadata": {},
   "outputs": [
    {
     "data": {
      "text/plain": [
       "-0.022966749604463228"
      ]
     },
     "execution_count": 14,
     "metadata": {},
     "output_type": "execute_result"
    }
   ],
   "source": [
    "W2"
   ]
  },
  {
   "cell_type": "code",
   "execution_count": 15,
   "id": "8e1e67d8",
   "metadata": {},
   "outputs": [
    {
     "data": {
      "text/plain": [
       "0.1695644915409915"
      ]
     },
     "execution_count": 15,
     "metadata": {},
     "output_type": "execute_result"
    }
   ],
   "source": [
    "bias"
   ]
  },
  {
   "cell_type": "code",
   "execution_count": 16,
   "id": "1c3b9e4e",
   "metadata": {},
   "outputs": [
    {
     "data": {
      "text/plain": [
       "[0.5011111111111111,\n",
       " 0.5011111111111111,\n",
       " 0.5011111111111111,\n",
       " 0.5011111111111111,\n",
       " 0.5011111111111111,\n",
       " 0.5011111111111111,\n",
       " 0.5011111111111111,\n",
       " 0.5011111111111111,\n",
       " 0.5011111111111111,\n",
       " 0.5011111111111111,\n",
       " 0.5011111111111111,\n",
       " 0.5011111111111111,\n",
       " 0.5011111111111111,\n",
       " 0.5011111111111111,\n",
       " 0.5011111111111111,\n",
       " 0.5011111111111111,\n",
       " 0.5011111111111111,\n",
       " 0.5011111111111111,\n",
       " 0.5011111111111111,\n",
       " 0.5011111111111111,\n",
       " 0.5011111111111111,\n",
       " 0.5011111111111111,\n",
       " 0.5011111111111111,\n",
       " 0.5011111111111111,\n",
       " 0.5011111111111111,\n",
       " 0.5011111111111111,\n",
       " 0.5011111111111111,\n",
       " 0.5011111111111111,\n",
       " 0.5011111111111111,\n",
       " 0.5011111111111111,\n",
       " 0.5011111111111111,\n",
       " 0.5011111111111111,\n",
       " 0.5011111111111111,\n",
       " 0.5011111111111111,\n",
       " 0.5011111111111111,\n",
       " 0.5011111111111111,\n",
       " 0.5011111111111111,\n",
       " 0.5011111111111111,\n",
       " 0.5011111111111111,\n",
       " 0.5011111111111111,\n",
       " 0.5011111111111111,\n",
       " 0.5011111111111111,\n",
       " 0.5011111111111111,\n",
       " 0.5011111111111111,\n",
       " 0.5011111111111111,\n",
       " 0.5011111111111111,\n",
       " 0.5011111111111111,\n",
       " 0.5011111111111111,\n",
       " 0.5011111111111111,\n",
       " 0.5011111111111111,\n",
       " 0.5011111111111111,\n",
       " 0.5011111111111111,\n",
       " 0.5011111111111111,\n",
       " 0.5011111111111111,\n",
       " 0.5011111111111111,\n",
       " 0.5011111111111111,\n",
       " 0.5011111111111111,\n",
       " 0.5011111111111111,\n",
       " 0.5011111111111111,\n",
       " 0.5011111111111111,\n",
       " 0.5011111111111111,\n",
       " 0.5011111111111111,\n",
       " 0.5011111111111111,\n",
       " 0.5011111111111111,\n",
       " 0.5011111111111111,\n",
       " 0.5011111111111111,\n",
       " 0.5011111111111111,\n",
       " 0.5011111111111111,\n",
       " 0.5011111111111111,\n",
       " 0.5011111111111111,\n",
       " 0.5011111111111111,\n",
       " 0.5011111111111111,\n",
       " 0.5011111111111111,\n",
       " 0.5011111111111111,\n",
       " 0.5011111111111111,\n",
       " 0.5011111111111111,\n",
       " 0.5011111111111111,\n",
       " 0.5011111111111111,\n",
       " 0.5011111111111111,\n",
       " 0.5011111111111111,\n",
       " 0.5011111111111111,\n",
       " 0.5011111111111111,\n",
       " 0.5011111111111111,\n",
       " 0.5011111111111111,\n",
       " 0.5011111111111111,\n",
       " 0.5011111111111111,\n",
       " 0.5011111111111111,\n",
       " 0.5011111111111111,\n",
       " 0.5011111111111111,\n",
       " 0.5011111111111111,\n",
       " 0.5011111111111111,\n",
       " 0.5011111111111111,\n",
       " 0.5011111111111111,\n",
       " 0.5011111111111111,\n",
       " 0.5011111111111111,\n",
       " 0.5011111111111111,\n",
       " 0.5011111111111111,\n",
       " 0.5011111111111111,\n",
       " 0.5011111111111111,\n",
       " 0.5011111111111111,\n",
       " 0.5011111111111111,\n",
       " 0.5011111111111111,\n",
       " 0.5011111111111111,\n",
       " 0.5011111111111111,\n",
       " 0.5011111111111111,\n",
       " 0.5011111111111111,\n",
       " 0.5011111111111111,\n",
       " 0.5011111111111111,\n",
       " 0.5011111111111111,\n",
       " 0.5011111111111111,\n",
       " 0.5011111111111111,\n",
       " 0.5011111111111111,\n",
       " 0.5011111111111111,\n",
       " 0.5011111111111111,\n",
       " 0.5011111111111111,\n",
       " 0.5011111111111111,\n",
       " 0.5011111111111111,\n",
       " 0.5011111111111111,\n",
       " 0.5011111111111111,\n",
       " 0.5011111111111111,\n",
       " 0.5011111111111111,\n",
       " 0.5011111111111111,\n",
       " 0.5011111111111111,\n",
       " 0.5011111111111111,\n",
       " 0.5011111111111111,\n",
       " 0.5011111111111111,\n",
       " 0.5011111111111111,\n",
       " 0.5011111111111111,\n",
       " 0.5011111111111111,\n",
       " 0.5011111111111111,\n",
       " 0.5011111111111111,\n",
       " 0.5011111111111111,\n",
       " 0.5011111111111111,\n",
       " 0.5011111111111111,\n",
       " 0.5011111111111111,\n",
       " 0.5011111111111111,\n",
       " 0.5011111111111111,\n",
       " 0.5011111111111111,\n",
       " 0.5011111111111111,\n",
       " 0.5011111111111111,\n",
       " 0.5011111111111111,\n",
       " 0.5011111111111111,\n",
       " 0.5011111111111111,\n",
       " 0.5011111111111111,\n",
       " 0.5011111111111111,\n",
       " 0.5011111111111111,\n",
       " 0.5011111111111111,\n",
       " 0.5011111111111111,\n",
       " 0.5011111111111111,\n",
       " 0.5011111111111111,\n",
       " 0.5011111111111111,\n",
       " 0.5011111111111111,\n",
       " 0.5011111111111111,\n",
       " 0.5011111111111111,\n",
       " 0.5011111111111111,\n",
       " 0.5011111111111111,\n",
       " 0.5011111111111111,\n",
       " 0.5011111111111111,\n",
       " 0.5011111111111111,\n",
       " 0.5011111111111111,\n",
       " 0.5011111111111111,\n",
       " 0.5011111111111111,\n",
       " 0.5011111111111111,\n",
       " 0.5011111111111111,\n",
       " 0.5011111111111111,\n",
       " 0.5011111111111111,\n",
       " 0.5011111111111111,\n",
       " 0.5011111111111111,\n",
       " 0.5011111111111111,\n",
       " 0.5011111111111111,\n",
       " 0.5011111111111111,\n",
       " 0.5011111111111111,\n",
       " 0.5011111111111111,\n",
       " 0.5011111111111111,\n",
       " 0.5011111111111111,\n",
       " 0.5011111111111111,\n",
       " 0.5011111111111111,\n",
       " 0.5011111111111111,\n",
       " 0.5011111111111111,\n",
       " 0.5011111111111111,\n",
       " 0.5011111111111111,\n",
       " 0.5011111111111111,\n",
       " 0.5011111111111111,\n",
       " 0.5011111111111111,\n",
       " 0.5011111111111111,\n",
       " 0.5011111111111111,\n",
       " 0.5011111111111111,\n",
       " 0.5011111111111111,\n",
       " 0.5011111111111111,\n",
       " 0.5011111111111111,\n",
       " 0.5011111111111111,\n",
       " 0.5011111111111111,\n",
       " 0.5011111111111111,\n",
       " 0.5011111111111111,\n",
       " 0.5011111111111111,\n",
       " 0.5011111111111111,\n",
       " 0.5011111111111111,\n",
       " 0.5011111111111111,\n",
       " 0.5011111111111111,\n",
       " 0.5011111111111111]"
      ]
     },
     "execution_count": 16,
     "metadata": {},
     "output_type": "execute_result"
    }
   ],
   "source": [
    "error"
   ]
  },
  {
   "cell_type": "code",
   "execution_count": 19,
   "id": "8a0f6b62",
   "metadata": {},
   "outputs": [
    {
     "data": {
      "image/png": "[encoded data removed]",
      "text/plain": [
       "<Figure size 640x480 with 1 Axes>"
      ]
     },
     "metadata": {},
     "output_type": "display_data"
    }
   ],
   "source": [
    "plt.plot(error);"
   ]
  },
  {
   "cell_type": "code",
   "execution_count": null,
   "id": "6335749f",
   "metadata": {},
   "outputs": [],
   "source": []
  }
 ],
 "metadata": {
  "kernelspec": {
   "display_name": "Python 3 (ipykernel)",
   "language": "python",
   "name": "python3"
  },
  "language_info": {
   "codemirror_mode": {
    "name": "ipython",
    "version": 3
   },
   "file_extension": ".py",
   "mimetype": "text/x-python",
   "name": "python",
   "nbconvert_exporter": "python",
   "pygments_lexer": "ipython3",
   "version": "3.11.5"
  }
 },
 "nbformat": 4,
 "nbformat_minor": 5
}
